{
 "cells": [
  {
   "cell_type": "code",
   "execution_count": 14,
   "id": "5988d962-17ad-49e3-b155-f37075b60bdd",
   "metadata": {},
   "outputs": [
    {
     "name": "stdin",
     "output_type": "stream",
     "text": [
      "Enter your age :  18\n"
     ]
    }
   ],
   "source": [
    "age = int(input(\"Enter your age : \"))"
   ]
  },
  {
   "cell_type": "code",
   "execution_count": 11,
   "id": "c6f61f26-4af4-4a88-a1ab-91ade1920e6e",
   "metadata": {},
   "outputs": [
    {
     "name": "stdout",
     "output_type": "stream",
     "text": [
      "Congratulations you are a legal adult\n"
     ]
    }
   ],
   "source": [
    "if age >= 18:\n",
    "    print(\"Congratulations you are a legal adult\")\n",
    "elif age < 15:\n",
    "    print(\"You cannot vote yet\")\n",
    "elif age == 16:\n",
    "    print(\"Two years left till you vote\")\n",
    "else:\n",
    "    print(\"You are a kid\")"
   ]
  },
  {
   "cell_type": "code",
   "execution_count": null,
   "id": "dbf58947-6248-4289-9e68-95e1674dc2e2",
   "metadata": {},
   "outputs": [],
   "source": []
  }
 ],
 "metadata": {
  "kernelspec": {
   "display_name": "Python 3 (ipykernel)",
   "language": "python",
   "name": "python3"
  },
  "language_info": {
   "codemirror_mode": {
    "name": "ipython",
    "version": 3
   },
   "file_extension": ".py",
   "mimetype": "text/x-python",
   "name": "python",
   "nbconvert_exporter": "python",
   "pygments_lexer": "ipython3",
   "version": "3.13.5"
  }
 },
 "nbformat": 4,
 "nbformat_minor": 5
}
