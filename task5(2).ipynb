{
 "cells": [
  {
   "cell_type": "code",
   "execution_count": 4,
   "id": "cd124651-8d4d-49dc-a0d0-0fccc7f50f04",
   "metadata": {},
   "outputs": [
    {
     "name": "stdin",
     "output_type": "stream",
     "text": [
      "Enter time taken:  9.5\n"
     ]
    }
   ],
   "source": [
    "swimming_time = float(input(\"Enter time taken: \"))"
   ]
  },
  {
   "cell_type": "code",
   "execution_count": 5,
   "id": "2c1fc61c-8579-41ea-995a-145c9f572bce",
   "metadata": {},
   "outputs": [
    {
     "name": "stdin",
     "output_type": "stream",
     "text": [
      "Enter time taken:  15.3\n"
     ]
    }
   ],
   "source": [
    "cycling_time = float(input(\"Enter time taken: \"))"
   ]
  },
  {
   "cell_type": "code",
   "execution_count": 3,
   "id": "0254161b-e7ab-4890-9331-8d386d849864",
   "metadata": {},
   "outputs": [
    {
     "name": "stdin",
     "output_type": "stream",
     "text": [
      "Enter time taken:  11.5\n"
     ]
    }
   ],
   "source": [
    "running_time = float(input(\"Enter time taken: \"))"
   ]
  },
  {
   "cell_type": "code",
   "execution_count": 6,
   "id": "effd7930-5c2d-43b4-8078-2b4affcec0aa",
   "metadata": {},
   "outputs": [],
   "source": [
    "t_time = swimming_time + cycling_time + running_time"
   ]
  },
  {
   "cell_type": "code",
   "execution_count": 7,
   "id": "2ac8b951-ba8f-4792-a516-1a4571c56fd4",
   "metadata": {},
   "outputs": [
    {
     "name": "stdout",
     "output_type": "stream",
     "text": [
      "t_time taken: \n"
     ]
    }
   ],
   "source": [
    "print(\"t_time taken: \")"
   ]
  },
  {
   "cell_type": "code",
   "execution_count": 8,
   "id": "51b3a166-a123-407f-ae05-5797b70c43ff",
   "metadata": {},
   "outputs": [
    {
     "name": "stdout",
     "output_type": "stream",
     "text": [
      "Congratulations on winning the provincial colours\n"
     ]
    }
   ],
   "source": [
    "if t_time <= 100:\n",
    "    print(\"Congratulations on winning the provincial colours\")\n",
    "elif t_time < 105:\n",
    "    print(\"Congradulations on winning the half colors\")\n",
    "elif t_time < 110:\n",
    "    print(\"Congratulations on winning provincial scroll\")\n",
    "else:\n",
    "    print(\"No award\")"
   ]
  },
  {
   "cell_type": "code",
   "execution_count": null,
   "id": "ca01045a-1481-4248-a4a9-f5da92e8a13e",
   "metadata": {},
   "outputs": [],
   "source": []
  }
 ],
 "metadata": {
  "kernelspec": {
   "display_name": "Python 3 (ipykernel)",
   "language": "python",
   "name": "python3"
  },
  "language_info": {
   "codemirror_mode": {
    "name": "ipython",
    "version": 3
   },
   "file_extension": ".py",
   "mimetype": "text/x-python",
   "name": "python",
   "nbconvert_exporter": "python",
   "pygments_lexer": "ipython3",
   "version": "3.13.5"
  }
 },
 "nbformat": 4,
 "nbformat_minor": 5
}
