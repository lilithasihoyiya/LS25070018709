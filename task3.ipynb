{
 "cells": [
  {
   "cell_type": "code",
   "execution_count": 1,
   "id": "ada29ccf-9c9b-4e73-8636-3d5f08cfd13f",
   "metadata": {},
   "outputs": [
    {
     "name": "stdin",
     "output_type": "stream",
     "text": [
      "Please enter the lengths of all the sides of a triangle : side1 = 2.2\n"
     ]
    }
   ],
   "source": [
    "user_input = input(\"Please enter the lengths of all the sides of a triangle :\")"
   ]
  },
  {
   "cell_type": "code",
   "execution_count": 2,
   "id": "e5aeb022-d40e-4dd0-a8ec-7654acd61409",
   "metadata": {},
   "outputs": [],
   "source": [
    "side1 = 2.2"
   ]
  },
  {
   "cell_type": "code",
   "execution_count": 3,
   "id": "015bfa6b-fef6-41c1-87af-9d6f4937c229",
   "metadata": {},
   "outputs": [],
   "source": [
    "side2 = 2.5"
   ]
  },
  {
   "cell_type": "code",
   "execution_count": 4,
   "id": "632275c3-d36a-494a-bea8-c89f3e579eab",
   "metadata": {},
   "outputs": [],
   "source": [
    "side3 = 3.1"
   ]
  },
  {
   "cell_type": "code",
   "execution_count": 5,
   "id": "708da5c0-2d14-4c89-9a9d-30ccdd227e20",
   "metadata": {
    "jupyter": {
     "source_hidden": true
    }
   },
   "outputs": [],
   "source": [
    "s = (side1 + side2 + side3)/2"
   ]
  },
  {
   "cell_type": "code",
   "execution_count": 8,
   "id": "23624bad-b8cc-4988-a4a8-59b556d8ce8e",
   "metadata": {},
   "outputs": [
    {
     "name": "stdin",
     "output_type": "stream",
     "text": [
      "Calculate the s-perimeter s = 2.2 + 2.5 + 3.1 /2\n"
     ]
    }
   ],
   "source": [
    "user_input = input (\"Calculate the s-perimeter\")"
   ]
  },
  {
   "cell_type": "code",
   "execution_count": 9,
   "id": "31f53919-1c57-4717-a4c5-31b32dc4e75e",
   "metadata": {},
   "outputs": [
    {
     "name": "stdout",
     "output_type": "stream",
     "text": [
      "3.9000000000000004\n"
     ]
    }
   ],
   "source": [
    "print(s)"
   ]
  },
  {
   "cell_type": "code",
   "execution_count": 13,
   "id": "c637175b-08e5-46ef-89a6-e7fc6b80e505",
   "metadata": {},
   "outputs": [],
   "source": [
    "import math"
   ]
  },
  {
   "cell_type": "code",
   "execution_count": 14,
   "id": "d4a437d0-4370-45ac-8bc0-796e8ecb5fa5",
   "metadata": {},
   "outputs": [],
   "source": [
    "area = math.sqrt(s * (s - side1) * (s - side2) * (s - side3))"
   ]
  },
  {
   "cell_type": "raw",
   "id": "f3618189-69fa-4391-ac7d-e5734ac97c43",
   "metadata": {},
   "source": [
    "print(\"the area of the triangle is :\" , area)"
   ]
  },
  {
   "cell_type": "code",
   "execution_count": null,
   "id": "b5b2fe0b-ebbb-47c4-930a-cc0ee71319c7",
   "metadata": {},
   "outputs": [],
   "source": []
  }
 ],
 "metadata": {
  "kernelspec": {
   "display_name": "Python 3 (ipykernel)",
   "language": "python",
   "name": "python3"
  },
  "language_info": {
   "codemirror_mode": {
    "name": "ipython",
    "version": 3
   },
   "file_extension": ".py",
   "mimetype": "text/x-python",
   "name": "python",
   "nbconvert_exporter": "python",
   "pygments_lexer": "ipython3",
   "version": "3.13.5"
  }
 },
 "nbformat": 4,
 "nbformat_minor": 5
}
