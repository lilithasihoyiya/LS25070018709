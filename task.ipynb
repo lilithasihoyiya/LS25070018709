{
 "cells": [
  {
   "cell_type": "code",
   "execution_count": null,
   "id": "23b42f8a-0992-47a4-831c-f38181b79e23",
   "metadata": {},
   "outputs": [],
   "source": [
    "#1.List names of friends\n",
    "# 2.Print the first friends name\n",
    "# 3.Print the last friends name\n",
    "# 4.Print the length of the list\n",
    "# 5.Make a list of the ages of the friends"
   ]
  },
  {
   "cell_type": "code",
   "execution_count": 3,
   "id": "4a50401a-45c6-4db2-9cd0-30d487ca8536",
   "metadata": {},
   "outputs": [],
   "source": [
    "friends_names = ['Jeon Jungkook', 'Bang Chan', 'Lee Heesueng']"
   ]
  },
  {
   "cell_type": "code",
   "execution_count": 4,
   "id": "21872480-c4b5-4204-8599-e1197ba02d09",
   "metadata": {},
   "outputs": [
    {
     "name": "stdout",
     "output_type": "stream",
     "text": [
      "First friend : Jeon Jungkook\n"
     ]
    }
   ],
   "source": [
    "print(f\"First friend : {friends_names[0]}\")"
   ]
  },
  {
   "cell_type": "code",
   "execution_count": 5,
   "id": "6427295a-70a1-4954-92a6-bd2c32d69172",
   "metadata": {},
   "outputs": [
    {
     "name": "stdout",
     "output_type": "stream",
     "text": [
      "Last friend : Lee Heesueng\n"
     ]
    }
   ],
   "source": [
    "print(f\"Last friend : {friends_names[2]}\")"
   ]
  },
  {
   "cell_type": "code",
   "execution_count": 6,
   "id": "3bfa48a0-17ad-4dbd-bc72-7ddcc5f1099f",
   "metadata": {},
   "outputs": [
    {
     "name": "stdout",
     "output_type": "stream",
     "text": [
      "Length of list : 3\n"
     ]
    }
   ],
   "source": [
    "print(f\"Length of list : {len(friends_names)}\")"
   ]
  },
  {
   "cell_type": "code",
   "execution_count": 10,
   "id": "7ca669ec-4a47-4812-90b5-9f38c4624189",
   "metadata": {},
   "outputs": [],
   "source": [
    "friends_ages = [26, 27, 25]"
   ]
  },
  {
   "cell_type": "code",
   "execution_count": 17,
   "id": "20a0ed93-0978-4542-84b1-db5b5633b278",
   "metadata": {},
   "outputs": [
    {
     "name": "stdout",
     "output_type": "stream",
     "text": [
      "Jeon Jungkook is 26years old.\n",
      "Bang Chan is 27years old.\n",
      "Lee Heesueng is 25years old.\n"
     ]
    }
   ],
   "source": [
    "print(f\"{friends_names[0]} is {friends_ages[0]}years old.\")\n",
    "print(f\"{friends_names[1]} is {friends_ages[1]}years old.\")\n",
    "print(f\"{friends_names[2]} is {friends_ages[2]}years old.\")"
   ]
  },
  {
   "cell_type": "code",
   "execution_count": null,
   "id": "9117b1d0-bdf9-4bc8-9bb0-bd1cc518557a",
   "metadata": {},
   "outputs": [],
   "source": []
  }
 ],
 "metadata": {
  "kernelspec": {
   "display_name": "Python 3 (ipykernel)",
   "language": "python",
   "name": "python3"
  },
  "language_info": {
   "codemirror_mode": {
    "name": "ipython",
    "version": 3
   },
   "file_extension": ".py",
   "mimetype": "text/x-python",
   "name": "python",
   "nbconvert_exporter": "python",
   "pygments_lexer": "ipython3",
   "version": "3.13.5"
  }
 },
 "nbformat": 4,
 "nbformat_minor": 5
}
